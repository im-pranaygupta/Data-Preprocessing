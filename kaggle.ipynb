{
 "cells": [
  {
   "cell_type": "code",
   "execution_count": 1,
   "metadata": {},
   "outputs": [],
   "source": [
    "#Install the Kaggle Library\n",
    "# pip install kaggle (already done)"
   ]
  },
  {
   "cell_type": "markdown",
   "metadata": {},
   "source": [
    "Upload the kaggle json file"
   ]
  },
  {
   "cell_type": "code",
   "execution_count": 9,
   "metadata": {},
   "outputs": [],
   "source": [
    "# Run in terminal\n",
    "# mkdir -p ~/.kaggle\n",
    "# cp kaggle.json ~/.kaggle/\n",
    "# chmod 600 ~/.kaggle/kaggle.json"
   ]
  },
  {
   "cell_type": "code",
   "execution_count": 8,
   "metadata": {},
   "outputs": [
    {
     "name": "stdout",
     "output_type": "stream",
     "text": [
      "Downloading LANL-Earthquake-Prediction.zip to /home/impranay/Desktop/ML/Siddhardhan/Data Preprocessing\n",
      "100%|█████████████████████████████████████▉| 2.27G/2.27G [02:41<00:00, 17.6MB/s]\n",
      "100%|██████████████████████████████████████| 2.27G/2.27G [02:41<00:00, 15.1MB/s]\n"
     ]
    }
   ],
   "source": [
    "!kaggle competitions download -c LANL-Earthquake-Prediction"
   ]
  },
  {
   "cell_type": "code",
   "execution_count": null,
   "metadata": {},
   "outputs": [],
   "source": [
    "# Extract the dataset"
   ]
  }
 ],
 "metadata": {
  "kernelspec": {
   "display_name": "Python 3",
   "language": "python",
   "name": "python3"
  },
  "language_info": {
   "codemirror_mode": {
    "name": "ipython",
    "version": 3
   },
   "file_extension": ".py",
   "mimetype": "text/x-python",
   "name": "python",
   "nbconvert_exporter": "python",
   "pygments_lexer": "ipython3",
   "version": "3.12.1"
  }
 },
 "nbformat": 4,
 "nbformat_minor": 2
}
